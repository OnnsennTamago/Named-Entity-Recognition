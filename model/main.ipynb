{
 "cells": [
  {
   "cell_type": "code",
   "execution_count": 1,
   "metadata": {},
   "outputs": [],
   "source": [
    "import pandas as pd\n",
    "\n",
    "from utlis import *\n",
    "from model import *\n",
    "from dataset import *\n",
    "from metrics import *\n",
    "\n",
    "from collections import Counter\n",
    "from collections import defaultdict\n",
    "from torch.utils.data import DataLoader\n",
    "from poprogress import simple_progress as simp"
   ]
  },
  {
   "cell_type": "code",
   "execution_count": 2,
   "metadata": {},
   "outputs": [],
   "source": [
    "import matplotlib.pyplot as plt"
   ]
  },
  {
   "cell_type": "code",
   "execution_count": 31,
   "metadata": {},
   "outputs": [
    {
     "name": "stdout",
     "output_type": "stream",
     "text": [
      "all_len:  21363\n",
      "train_data_size:  17142\n",
      "valid_data_size:  2085\n",
      "test_data_size:  2136\n",
      "Spliting data done\n",
      "------------------------------\n"
     ]
    },
    {
     "name": "stderr",
     "output_type": "stream",
     "text": [
      "100%|██████████| 17142/17142 [00:00<00:00, 125692.08it/s]"
     ]
    },
    {
     "name": "stdout",
     "output_type": "stream",
     "text": [
      "{'B-LOC': 0, 'B-MISC': 1, 'B-ORG': 2, 'B-PER': 3, 'I-LOC': 4, 'I-MISC': 5, 'I-ORG': 6, 'I-PER': 7, 'O': 8}\n",
      "{0: 'B-LOC', 1: 'B-MISC', 2: 'B-ORG', 3: 'B-PER', 4: 'I-LOC', 5: 'I-MISC', 6: 'I-ORG', 7: 'I-PER', 8: 'O'}\n"
     ]
    },
    {
     "name": "stderr",
     "output_type": "stream",
     "text": [
      "\n"
     ]
    },
    {
     "name": "stdout",
     "output_type": "stream",
     "text": [
      "Get sequences done\n",
      "------------------------------\n",
      "Encoding data done\n",
      "size:  25232\n",
      "------------------------------\n",
      "Making datasets done\n",
      "------------------------------\n",
      "Making Dataloaders done\n",
      "------------------------------\n"
     ]
    }
   ],
   "source": [
    "# load data\n",
    "all_data = pd.read_csv(\"../data_preprocess/all-data.csv\")\n",
    "all_len = len(all_data)\n",
    "print(\"all_len: \",all_len)\n",
    "\n",
    "# split data\n",
    "train_data, valid_data, test_data = split_dataset(all_data, 0.8, 0.1)\n",
    "print(\"train_data_size: \",len(train_data))\n",
    "print(\"valid_data_size: \",len(valid_data))\n",
    "print(\"test_data_size: \",len(test_data))\n",
    "print(\"Spliting data done\")\n",
    "print(\"-\"*30)\n",
    "\n",
    "# get unique labels\n",
    "label_unique = sorted(get_label_unique(train_data))\n",
    "\n",
    "# get dicts\n",
    "label_to_id = {k: v for v,k in enumerate(label_unique)}\n",
    "id_to_label = {k: v for k,v in enumerate(label_unique)}\n",
    "print(label_to_id)\n",
    "print(id_to_label)\n",
    "\n",
    "# get seq\n",
    "train_token_seq, train_label_seq = get_data_seq(train_data)\n",
    "valid_token_seq, valid_label_seq = get_data_seq(valid_data)\n",
    "test_token_seq, test_label_seq = get_data_seq(test_data)\n",
    "print(\"Get sequences done\")\n",
    "print(\"-\"*30)\n",
    "\n",
    "# get token -> id and label -> id\n",
    "token2cnt = Counter([token for sentence in train_token_seq for token in sentence])\n",
    "label_set = sorted(set(label for sentence in train_label_seq for label in sentence))\n",
    "token_to_id = get_token2id(token2cnt)\n",
    "print(\"Encoding data done\")\n",
    "print(\"size: \",len(token_to_id))\n",
    "print(\"-\"*30)\n",
    "\n",
    "# dataset\n",
    "train_set = nerDataset(train_token_seq, train_label_seq, token_to_id, label_to_id, preprocess=True)\n",
    "valid_set = nerDataset(valid_token_seq, valid_label_seq, token_to_id, label_to_id, preprocess=True)\n",
    "test_set = nerDataset(test_token_seq, test_label_seq, token_to_id, label_to_id, preprocess=True)\n",
    "print(\"Making datasets done\")\n",
    "print(\"-\"*30)\n",
    "\n",
    "# dataloader\n",
    "train_coll_fn = nerCollator(token_to_id[\"<UNK>\"], label_to_id[\"O\"], 100)\n",
    "valid_coll_fn = nerCollator(token_to_id[\"<UNK>\"], label_to_id[\"O\"], 100)\n",
    "test_coll_fn = nerCollator(token_to_id[\"<UNK>\"], label_to_id[\"O\"], 100)\n",
    "bz = 64\n",
    "train_loader = DataLoader(dataset=train_set, batch_size=bz, shuffle=False, collate_fn=train_coll_fn)\n",
    "valid_loader = DataLoader(dataset=valid_set, batch_size=bz, shuffle=False, collate_fn=valid_coll_fn)\n",
    "test_loader = DataLoader(dataset=test_set, batch_size=bz, shuffle=False, collate_fn=test_coll_fn)\n",
    "print(\"Making Dataloaders done\")\n",
    "print(\"-\"*30)\n"
   ]
  },
  {
   "cell_type": "code",
   "execution_count": 4,
   "metadata": {},
   "outputs": [
    {
     "name": "stdout",
     "output_type": "stream",
     "text": [
      "Setting models done\n",
      "------------------------------\n"
     ]
    }
   ],
   "source": [
    "embedding_layer = Embedding(num_embeddings=len(token_to_id), embedding_dim=128)\n",
    "\n",
    "rnn_layer = dynamicRNN(rnn_unit=torch.nn.LSTM, input_size=128, hidden_size=256, \n",
    "                num_layers=1, dropout=0, bidirectional=True)\n",
    "\n",
    "linear_head = LinearHead(linear_head=torch.nn.Linear(in_features=(2*256), \n",
    "                                                     out_features=len(label_to_id)))\n",
    "\n",
    "model = BiLSTM(embedding_layer=embedding_layer, rnn_layer=rnn_layer, linear_head=linear_head)#.to(device)\n",
    "print(\"Setting models done\")\n",
    "print(\"-\"*30)"
   ]
  },
  {
   "cell_type": "code",
   "execution_count": 25,
   "metadata": {},
   "outputs": [
    {
     "name": "stdout",
     "output_type": "stream",
     "text": [
      "Setting metrics done\n",
      "------------------------------\n"
     ]
    }
   ],
   "source": [
    "criterion = torch.nn.CrossEntropyLoss(reduction=\"none\")\n",
    "optimizer_type = torch.optim.Adam\n",
    "optimizer = optimizer_type(params=model.parameters(), lr=0.001, amsgrad=False)\n",
    "print(\"Setting metrics done\")\n",
    "print(\"-\"*30)\n",
    "\n",
    "verbose = False\n",
    "n_epoch = 1\n",
    "clip_grad_norm = 0.8\n",
    "device = torch.device(\"cuda:0\" if torch.cuda.is_available() else \"cpu\")\n"
   ]
  },
  {
   "cell_type": "code",
   "execution_count": 26,
   "metadata": {},
   "outputs": [],
   "source": [
    "def data_epoch(model, dataloader, criterion, mode, device, verbose=True):\n",
    "    metrics = defaultdict(list)\n",
    "    if mode == \"train\":\n",
    "        model.train()\n",
    "    else:\n",
    "        model.eval()\n",
    "        \n",
    "    for tokens, labels, lengths in simp(dataloader):\n",
    "        tokens, labels, lengths = (tokens.to(device), labels.to(device), lengths.to(device))\n",
    "\n",
    "        mask = masking(lengths)\n",
    "\n",
    "        # forward pass\n",
    "        if mode == \"train\":\n",
    "            logits = model(tokens, lengths) # bz,xxx,9\n",
    "            loss_without_reduction = criterion(logits.transpose(-1, -2), labels)\n",
    "            loss = torch.sum(loss_without_reduction * mask) / torch.sum(mask)\n",
    "            # backward pass\n",
    "            loss.backward()\n",
    "            # gradient clipping\n",
    "            # torch.nn.utils.clip_grad_norm_(model.parameters(), max_norm=clip_grad_norm, norm_type=2)\n",
    "            # update \n",
    "            optimizer.step()\n",
    "            optimizer.zero_grad()\n",
    "            \n",
    "        else:\n",
    "            with torch.no_grad():\n",
    "                logits = model(tokens, lengths)\n",
    "                loss_without_reduction = criterion(logits.transpose(-1, -2), labels)\n",
    "                loss = torch.sum(loss_without_reduction * mask) / torch.sum(mask)\n",
    "\n",
    "        # make predictions\n",
    "        y_true = to_numpy(labels[mask])\n",
    "        y_pred = to_numpy(logits.argmax(dim=-1)[mask])\n",
    "\n",
    "        # calculate metrics\n",
    "        metrics = calculate_metrics(\n",
    "            metrics=metrics,\n",
    "            loss=loss.item(),\n",
    "            y_true=y_true,\n",
    "            y_pred=y_pred,\n",
    "            idx2label=id_to_label,\n",
    "        )\n",
    "\n",
    "    return metrics"
   ]
  },
  {
   "cell_type": "code",
   "execution_count": 27,
   "metadata": {},
   "outputs": [
    {
     "name": "stderr",
     "output_type": "stream",
     "text": [
      "100%|██████████| 267/267 [03:43<00:00,  1.20it/s]\n",
      "100%|██████████| 35/35 [00:05<00:00,  6.33it/s]\n"
     ]
    },
    {
     "name": "stdout",
     "output_type": "stream",
     "text": [
      "t  1.5360968260282881\n",
      "v  1.5018926995141166\n"
     ]
    },
    {
     "name": "stderr",
     "output_type": "stream",
     "text": [
      "100%|██████████| 2146/2146 [00:35<00:00, 59.72it/s] \n"
     ]
    }
   ],
   "source": [
    "for epoch in range(n_epoch):\n",
    "    train_metrics = data_epoch(model, train_loader, criterion, \"train\", device, False)\n",
    "    valid_metrics = data_epoch(model, valid_loader, criterion, \"valid\", device, False)\n",
    "    print(\"t \",np.mean(train_metrics[\"loss\"]))\n",
    "    print(\"v \",np.mean(valid_metrics[\"loss\"]))\n",
    "test_metrics = data_epoch(model, test_loader, criterion, \"test\", device, False)"
   ]
  },
  {
   "cell_type": "code",
   "execution_count": 28,
   "metadata": {},
   "outputs": [
    {
     "data": {
      "text/plain": [
       "<matplotlib.collections.PathCollection at 0x128f29710>"
      ]
     },
     "execution_count": 28,
     "metadata": {},
     "output_type": "execute_result"
    },
    {
     "data": {
      "image/png": "[encoded data removed]",
      "text/plain": [
       "<Figure size 640x480 with 1 Axes>"
      ]
     },
     "metadata": {},
     "output_type": "display_data"
    }
   ],
   "source": [
    "y0 = train_metrics[\"loss\"]\n",
    "y1 = valid_metrics[\"loss\"]\n",
    "y2 = test_metrics[\"loss\"]\n",
    "x = y2\n",
    "plt.scatter([range(len(x))], x)\n"
   ]
  },
  {
   "cell_type": "code",
   "execution_count": 29,
   "metadata": {},
   "outputs": [],
   "source": [
    "# print(train_metrics[\"loss\"])\n",
    "# print(valid_metrics[\"loss\"])\n",
    "# print(test_metrics[\"loss\"])"
   ]
  },
  {
   "cell_type": "code",
   "execution_count": 30,
   "metadata": {},
   "outputs": [
    {
     "data": {
      "text/plain": [
       "{'blair': 'O',\n",
       " 'larsen': 'B-PER',\n",
       " 'or': 'O',\n",
       " 'the': 'O',\n",
       " 'uncapped': 'O',\n",
       " 'glenn': 'B-PER',\n",
       " 'taylor': 'B-LOC',\n",
       " 'are': 'O',\n",
       " 'on': 'O',\n",
       " 'standby': 'O',\n",
       " 'to': 'O',\n",
       " 'replace': 'B-PER',\n",
       " 'jones': 'B-LOC',\n",
       " 'and': 'O',\n",
       " ',': 'O',\n",
       " 'with': 'O',\n",
       " 'jonah': 'B-PER',\n",
       " 'lomu': 'B-PER',\n",
       " 'out': 'O',\n",
       " 'of': 'O',\n",
       " 'action': 'O',\n",
       " 'a': 'O',\n",
       " 'shoulder': 'O',\n",
       " 'injury': 'O',\n",
       " 'picked': 'O',\n",
       " 'up': 'O',\n",
       " 'in': 'O',\n",
       " 'tuesday': 'O',\n",
       " \"'s\": 'O',\n",
       " 'drawn': 'O',\n",
       " 'match': 'O',\n",
       " 'against': 'O',\n",
       " 'griqualand': 'B-PER',\n",
       " 'west': 'B-LOC',\n",
       " 'eric': 'B-PER',\n",
       " 'rush': 'O',\n",
       " 'is': 'O',\n",
       " 'favourite': 'O',\n",
       " 'play': 'O',\n",
       " 'should': 'O',\n",
       " 'wilson': 'B-PER',\n",
       " 'fail': 'O',\n",
       " 'recover': 'O',\n",
       " '.': 'O'}"
      ]
     },
     "execution_count": 30,
     "metadata": {},
     "output_type": "execute_result"
    }
   ],
   "source": [
    "sent = \"Blair Larsen or the uncapped Glenn Taylor are on standby to replace Jones and , with Jonah Lomu out of action with a shoulder injury picked up in Tuesday 's drawn match against Griqualand West , Eric Rush is favourite to play should Wilson fail to recover .\"\n",
    "\n",
    "# sent = \"June 25-27 v British Universities ( at Oxford , three days )\"\n",
    "sent = sent.lower().split()\n",
    "sent_tokens = []\n",
    "for x in sent:\n",
    "    sent_tokens.append(token_to_id.get(x, 1))\n",
    "model.eval()\n",
    "in_tokens = torch.tensor(sent_tokens).unsqueeze(0).to(device)\n",
    "in_length = torch.tensor([len(sent_tokens)]).to(device)\n",
    "\n",
    "cc = np.argmax(to_numpy(model(in_tokens, in_length)[0]),1)\n",
    "ou_labels = []\n",
    "ou_dict = {}\n",
    "for i,x in enumerate(cc):    \n",
    "    # print({sent[i]: id_to_label[x]})\n",
    "    ou_dict[sent[i]] = id_to_label[x]\n",
    "    ou_labels.append(id_to_label[x])\n",
    "ou_dict"
   ]
  },
  {
   "cell_type": "code",
   "execution_count": null,
   "metadata": {},
   "outputs": [],
   "source": []
  }
 ],
 "metadata": {
  "kernelspec": {
   "display_name": "Python 3",
   "language": "python",
   "name": "python3"
  },
  "language_info": {
   "codemirror_mode": {
    "name": "ipython",
    "version": 3
   },
   "file_extension": ".py",
   "mimetype": "text/x-python",
   "name": "python",
   "nbconvert_exporter": "python",
   "pygments_lexer": "ipython3",
   "version": "3.11.4"
  }
 },
 "nbformat": 4,
 "nbformat_minor": 2
}
