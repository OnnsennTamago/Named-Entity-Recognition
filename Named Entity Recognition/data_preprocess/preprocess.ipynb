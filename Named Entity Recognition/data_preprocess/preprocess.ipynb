{
 "cells": [
  {
   "cell_type": "code",
   "execution_count": 15,
   "metadata": {},
   "outputs": [],
   "source": [
    "import json\n",
    "import pandas as pd\n",
    "from poprogress import simple_progress as simp\n",
    "import random"
   ]
  },
  {
   "cell_type": "code",
   "execution_count": 16,
   "metadata": {},
   "outputs": [
    {
     "name": "stdout",
     "output_type": "stream",
     "text": [
      "------------------------------\n",
      "numbers of sentences:  21363\n",
      "------------------------------\n"
     ]
    }
   ],
   "source": [
    "file_path = \"../data/conll-balanced.json\"\n",
    "\n",
    "with open(file_path) as f:\n",
    "    text = json.load(f)\n",
    "    print(\"-\"*30)\n",
    "    print(\"numbers of sentences: \", len(text))\n",
    "    print(\"-\"*30)"
   ]
  },
  {
   "cell_type": "code",
   "execution_count": 80,
   "metadata": {},
   "outputs": [],
   "source": [
    "def get_df(data):\n",
    "\n",
    "    df = pd.DataFrame()\n",
    "    for i,(sentence, annotation) in simp(enumerate(data)):\n",
    "\n",
    "        sent_labels = get_sent_labels(sentence, annotation)\n",
    "        # print(sent_labels)\n",
    "        dataset = {\"raw_sentence\": sentence,\n",
    "                \"labels\": [sent_labels]}\n",
    "        # print(dataset)\n",
    "    \n",
    "        df1 = pd.DataFrame(dataset)\n",
    "        df = pd.concat([df, df1], ignore_index=True)\n",
    "    # print(df)\n",
    "    return df\n",
    "\n",
    "def get_sent_labels(sent, anns):\n",
    "    '''\n",
    "    BIO\n",
    "    param:\n",
    "        - sent: sentence\n",
    "        - ann : annotation of the sentence\n",
    "    '''\n",
    "    words = get_words(sent)\n",
    "    words_length = len(words)\n",
    "    label_list = [\"O\"] * words_length\n",
    "\n",
    "    anchor = -1\n",
    "    for ann in anns:\n",
    "        # start = ann[\"start\"]\n",
    "        # end = ann[\"end\"]\n",
    "        label = ann[\"label\"]\n",
    "        text = ann[\"text\"]\n",
    "        text_word = text.split()\n",
    "\n",
    "        for i,target in enumerate(text_word):\n",
    "            for j in range(anchor,words_length):\n",
    "                word = words[j]\n",
    "                \n",
    "                if target == word:\n",
    "                    if i != 0:\n",
    "                        label_list[j] = 'I-' + label\n",
    "                    else:\n",
    "                        label_list[j] = 'B-' + label\n",
    "                    anchor = j + 1\n",
    "                    break\n",
    "    # print(label_list)\n",
    "    return label_list\n",
    "\n",
    "def get_words(sent):\n",
    "    '''\n",
    "    Clear punctuation\n",
    "    '''\n",
    "    words_list = sent.split()\n",
    "    # eli = '''!()-[]{};:'\"\\,<>./?@#$%^&*_~'''\n",
    "    words = []\n",
    "    for word in words_list:\n",
    "        words.append(word)\n",
    "        # if word not in eli:\n",
    "        #     words.append(word)\n",
    "    # print(words)\n",
    "    return words"
   ]
  },
  {
   "cell_type": "code",
   "execution_count": 81,
   "metadata": {},
   "outputs": [],
   "source": [
    "def data_split(full_list, ratio, shuffle=False):\n",
    "\n",
    "    n_total = len(full_list)\n",
    "    offset = int(n_total * ratio)\n",
    "    \n",
    "    if n_total == 0 or offset < 1:\n",
    "        return [], full_list\n",
    "\n",
    "    if shuffle:\n",
    "        random.shuffle(full_list)\n",
    "    test_set = full_list[:offset]\n",
    "    train_set = full_list[offset:]\n",
    "    return test_set, train_set"
   ]
  },
  {
   "cell_type": "code",
   "execution_count": 94,
   "metadata": {},
   "outputs": [
    {
     "name": "stdout",
     "output_type": "stream",
     "text": [
      "13886\n",
      "2617\n",
      "2430\n",
      "2430\n"
     ]
    }
   ],
   "source": [
    "res_data, train_data = data_split(text, ratio=0.35, shuffle=True)\n",
    "res_data, val_data = data_split(res_data, ratio=0.65, shuffle=True)\n",
    "test2_data, test1_data = data_split(res_data, ratio=0.5, shuffle=True)\n",
    "\n",
    "print(len(train_data))\n",
    "print(len(val_data))\n",
    "print(len(test1_data))\n",
    "print(len(test2_data))"
   ]
  },
  {
   "cell_type": "code",
   "execution_count": 98,
   "metadata": {},
   "outputs": [
    {
     "name": "stderr",
     "output_type": "stream",
     "text": [
      "13886it [00:14, 945.38it/s]\n",
      "2617it [00:01, 1549.00it/s]\n",
      "2430it [00:01, 1856.16it/s]\n",
      "2430it [00:01, 1750.40it/s]\n"
     ]
    }
   ],
   "source": [
    "names = [\"train\", \"val\", \"test1\", \"test2\"]\n",
    "data_list = [train_data, val_data, test1_data, test2_data]\n",
    "for i,data in enumerate(data_list):\n",
    "    df_data = get_df(data)\n",
    "    df_data.to_csv(f\"{names[i]}.csv\", index=None)"
   ]
  }
 ],
 "metadata": {
  "kernelspec": {
   "display_name": "Python 3",
   "language": "python",
   "name": "python3"
  },
  "language_info": {
   "codemirror_mode": {
    "name": "ipython",
    "version": 3
   },
   "file_extension": ".py",
   "mimetype": "text/x-python",
   "name": "python",
   "nbconvert_exporter": "python",
   "pygments_lexer": "ipython3",
   "version": "3.11.4"
  }
 },
 "nbformat": 4,
 "nbformat_minor": 2
}
