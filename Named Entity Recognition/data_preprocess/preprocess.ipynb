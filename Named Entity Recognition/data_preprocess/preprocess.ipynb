{
 "cells": [
  {
   "cell_type": "code",
   "execution_count": 84,
   "metadata": {},
   "outputs": [],
   "source": [
    "import json\n",
    "import pandas as pd\n",
    "from poprogress import simple_progress as simp\n",
    "import random"
   ]
  },
  {
   "cell_type": "code",
   "execution_count": 5,
   "metadata": {},
   "outputs": [
    {
     "name": "stdout",
     "output_type": "stream",
     "text": [
      "------------------------------\n",
      "numbers of sentences:  21363\n",
      "------------------------------\n"
     ]
    }
   ],
   "source": [
    "file_path = \"../data/conll-balanced.json\"\n",
    "\n",
    "with open(file_path) as f:\n",
    "    text = json.load(f)\n",
    "    print(\"-\"*30)\n",
    "    print(\"numbers of sentences: \", len(text))\n",
    "    print(\"-\"*30)"
   ]
  },
  {
   "cell_type": "code",
   "execution_count": 207,
   "metadata": {},
   "outputs": [],
   "source": [
    "def get_df(data):\n",
    "\n",
    "    df = pd.DataFrame()\n",
    "    for i,(sentence, annotation) in simp(enumerate(data)):\n",
    "        # tags, words = get_sent_label(sentence, annotation)\n",
    "        tag_dic = get_sent_label(sentence, annotation)\n",
    "        # for j,x in enumerate(tag_dic):\n",
    "        #     dataset = {\"sent_id\": i, \"raw_sentence\": sentence, \"word_id\": j, \"word\": x, \"tag\": tag_dic[x]}\n",
    "        #     # print(dataset)\n",
    "            \n",
    "        #     df1 = pd.DataFrame(dataset, index=[0])\n",
    "        #     df = pd.concat([df, df1], ignore_index=True)\n",
    "        dataset = {\"sent_id\": i, \n",
    "                #    \"raw_sentence\": sentence, \n",
    "                   \"word_id\": list(range(len(tag_dic))), \n",
    "                   \"word\": list(tag_dic), \n",
    "                   \"tag\": list(tag_dic.values())}\n",
    "        # print(dataset)\n",
    "        \n",
    "        df1 = pd.DataFrame(dataset)\n",
    "        df = pd.concat([df, df1], ignore_index=True)\n",
    "\n",
    "    # print(df)\n",
    "    return df\n",
    "\n",
    "def get_sent_label(sent, anns):\n",
    "    '''\n",
    "    BIO\n",
    "    param:\n",
    "        - sent: sentence\n",
    "        - ann : annotation of the sentence\n",
    "    '''\n",
    "    words = get_words(sent)\n",
    "\n",
    "    tag_dic = get_tag_dic(anns, words)\n",
    "        \n",
    "    # id_to_tag = {}\n",
    "    # tag_val = tag_dic.values()\n",
    "    # for i,x in enumerate(tag_val):\n",
    "    #     id_to_tag[i] = x\n",
    "        \n",
    "    # id_to_word = {}\n",
    "    # for i,x in enumerate(list(tag_dic)):\n",
    "    #     id_to_word[i] = x\n",
    "        \n",
    "    # print(id_to_tag)\n",
    "    # print(id_to_word)\n",
    "    # return id_to_tag, id_to_word\n",
    "    return tag_dic\n",
    "\n",
    "def get_words(sent):\n",
    "    '''\n",
    "    Clear punctuation\n",
    "    '''\n",
    "    words_list = sent.split()\n",
    "    # eli = '''!()-[]{};:'\"\\,<>./?@#$%^&*_~'''\n",
    "    words = []\n",
    "    for word in words_list:\n",
    "        words.append(word)\n",
    "        # if word not in eli:\n",
    "            # words.append(word)\n",
    "    # print(words)\n",
    "    return words\n",
    "\n",
    "def get_tag_dic(anns, words):\n",
    "    dic = dict()\n",
    "    for word in words:\n",
    "        dic[word] = 'O'\n",
    "        \n",
    "    for ann in anns:\n",
    "        start = ann[\"start\"]\n",
    "        end = ann[\"end\"]\n",
    "        label = ann[\"label\"]\n",
    "        text = ann[\"text\"]\n",
    "        text_word = text.split()\n",
    "        \n",
    "        for i,x in enumerate(text_word):\n",
    "            if x in words:\n",
    "                if i == 0:\n",
    "                    dic[x] = 'B-' + label\n",
    "                else:\n",
    "                    dic[x] = 'I-' + label\n",
    "    # print(dic)\n",
    "    \n",
    "    return dic\n"
   ]
  },
  {
   "cell_type": "code",
   "execution_count": 208,
   "metadata": {},
   "outputs": [
    {
     "name": "stdout",
     "output_type": "stream",
     "text": [
      "4272\n",
      "17091\n"
     ]
    }
   ],
   "source": [
    "def data_split(full_list, ratio, shuffle=False):\n",
    "\n",
    "    n_total = len(full_list)\n",
    "    offset = int(n_total * ratio)\n",
    "    \n",
    "    if n_total == 0 or offset < 1:\n",
    "        return [], full_list\n",
    "\n",
    "    if shuffle:\n",
    "        random.shuffle(full_list)\n",
    "    test_set = full_list[:offset]\n",
    "    train_set = full_list[offset:]\n",
    "    return test_set, train_set\n",
    " \n",
    "test_data, train_data = data_split(text, ratio=0.2, shuffle=True)\n",
    "print(len(test_data))\n",
    "print(len(train_data))\n"
   ]
  },
  {
   "cell_type": "code",
   "execution_count": 209,
   "metadata": {},
   "outputs": [
    {
     "name": "stderr",
     "output_type": "stream",
     "text": [
      "0it [00:00, ?it/s]"
     ]
    },
    {
     "name": "stderr",
     "output_type": "stream",
     "text": [
      "4272it [00:15, 284.63it/s]\n"
     ]
    },
    {
     "name": "stdout",
     "output_type": "stream",
     "text": [
      "Index(['sent_id', 'word_id', 'word', 'tag'], dtype='object')\n"
     ]
    }
   ],
   "source": [
    "test_df = get_df(test_data)\n",
    "print(test_df.columns)\n",
    "test_df.to_csv(\"test.csv\", index=None)"
   ]
  },
  {
   "cell_type": "code",
   "execution_count": 210,
   "metadata": {},
   "outputs": [
    {
     "name": "stderr",
     "output_type": "stream",
     "text": [
      "17091it [02:00, 141.59it/s]\n"
     ]
    }
   ],
   "source": [
    "train_df = get_df(train_data)\n",
    "train_df.to_csv(\"train.csv\", index=None)"
   ]
  }
 ],
 "metadata": {
  "kernelspec": {
   "display_name": "Python 3",
   "language": "python",
   "name": "python3"
  },
  "language_info": {
   "codemirror_mode": {
    "name": "ipython",
    "version": 3
   },
   "file_extension": ".py",
   "mimetype": "text/x-python",
   "name": "python",
   "nbconvert_exporter": "python",
   "pygments_lexer": "ipython3",
   "version": "3.11.4"
  }
 },
 "nbformat": 4,
 "nbformat_minor": 2
}
